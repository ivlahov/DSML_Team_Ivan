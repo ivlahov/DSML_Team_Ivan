{
 "cells": [
  {
   "cell_type": "markdown",
   "id": "36b82e15",
   "metadata": {},
   "source": [
    "# DSML Team Project – Milestone 1\n",
    "\n",
    "**Project Title:** Predicting Trip Duration for Ride-Hailing Trips in Chicago  \n",
    "**Dataset:** [Transportation Network Providers Trips (2023–2024)](https://data.cityofchicago.org/Transportation/Transportation-Network-Providers-Trips-2023-2024-/n26f-ihde)  \n",
    "**Course:** Introduction to Data Science and Machine Learning (SS 2025)  \n",
    "**Team:** Ivan "
   ]
  },
  {
   "cell_type": "markdown",
   "id": "2d9e4e9e",
   "metadata": {},
   "source": [
    "## 1. Business Understanding\n",
    "\n",
    "Ride-hailing services like Uber and Lyft are now a central part of urban mobility. However, predicting how long a ride will take is still complex and influenced by time of day, location, traffic, and ride type.\n",
    "\n",
    "### Prediction Goal:\n",
    "We aim to **predict the duration (in minutes)** of a ride-hailing trip in Chicago using publicly available data. This can help:\n",
    "\n",
    "- Improve estimated time of arrival (ETA) systems\n",
    "- Support city-level mobility planning\n",
    "- Optimize dispatching and routing algorithms for fleet operators\n",
    "\n",
    "This is modeled as a **regression problem**.\n"
   ]
  },
  {
   "cell_type": "markdown",
   "id": "bc6ce072",
   "metadata": {},
   "source": [
    "## 2. Data Understanding\n",
    "\n",
    "We are using the **Transportation Network Providers Trips dataset (2023–2024)** published by the City of Chicago.\n",
    "\n",
    "📎 [Transportation Network Providers Trips dataset (2023–2024)](https://data.cityofchicago.org/Transportation/Transportation-Network-Providers-Trips-2023-2024-/n26f-ihde)\n",
    "\n",
    "Each row represents a **single trip** and includes:\n",
    "- Trip start and end timestamps\n",
    "- Trip duration (in seconds)\n",
    "- Trip distance (in miles)\n",
    "- Community areas for pickup and dropoff\n",
    "- Trip type (pooled vs. solo)\n",
    "- Company providing the service\n",
    "\n",
    "The dataset contains **millions of records**, ideal for modeling with temporal and geospatial features.\n",
    "\n"
   ]
  },
  {
   "cell_type": "code",
   "execution_count": null,
   "id": "f3f47a09",
   "metadata": {},
   "outputs": [],
   "source": [
    "import pandas as pd\n",
    "import matplotlib.pyplot as plt\n",
    "import seaborn as sns\n",
    "\n",
    "pd.set_option(\"display.max_columns\", None)\n"
   ]
  },
  {
   "cell_type": "code",
   "execution_count": null,
   "id": "eae8fcce",
   "metadata": {},
   "outputs": [],
   "source": [
    "# Load a manageable sample for development\n",
    "url = \"https://data.cityofchicago.org/api/views/n26f-ihde/rows.csv?accessType=DOWNLOAD\"\n",
    "df = pd.read_csv(url, nrows=100000)\n",
    "df.shape, df.columns\n"
   ]
  }
 ],
 "metadata": {
  "kernelspec": {
   "display_name": "dsml-env",
   "language": "python",
   "name": "python3"
  },
  "language_info": {
   "codemirror_mode": {
    "name": "ipython",
    "version": 3
   },
   "file_extension": ".py",
   "mimetype": "text/x-python",
   "name": "python",
   "nbconvert_exporter": "python",
   "pygments_lexer": "ipython3",
   "version": "3.13.3"
  }
 },
 "nbformat": 4,
 "nbformat_minor": 5
}
